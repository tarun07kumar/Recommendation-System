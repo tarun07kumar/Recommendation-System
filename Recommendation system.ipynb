{
  "nbformat": 4,
  "nbformat_minor": 0,
  "metadata": {
    "colab": {
      "provenance": []
    },
    "kernelspec": {
      "name": "python3",
      "display_name": "Python 3"
    },
    "language_info": {
      "name": "python"
    }
  },
  "cells": [
    {
      "cell_type": "markdown",
      "source": [
        "# Recommendation System (using scikit-learn):"
      ],
      "metadata": {
        "id": "idW5Cqnu_VAE"
      }
    },
    {
      "cell_type": "code",
      "source": [
        "#importing the libraries\n",
        "import numpy as np\n",
        "from sklearn.metrics.pairwise import cosine_similarity"
      ],
      "metadata": {
        "id": "No7VZVbW_iq1"
      },
      "execution_count": 26,
      "outputs": []
    },
    {
      "cell_type": "code",
      "source": [
        "# Create a mock user-item matrix (rows: users, columns: items)\n",
        "user_item_matrix = np.array([[5, 0, 4, 0, 3],\n",
        "                             [0, 4, 0, 0, 5],\n",
        "                             [2, 0, 1, 3, 0]])"
      ],
      "metadata": {
        "id": "wuOX1Wt1_98H"
      },
      "execution_count": 27,
      "outputs": []
    },
    {
      "cell_type": "code",
      "source": [
        "# Calculate cosine similarity between users\n",
        "user_similarity = cosine_similarity(user_item_matrix)"
      ],
      "metadata": {
        "id": "oHZYlG7-AHq1"
      },
      "execution_count": 28,
      "outputs": []
    },
    {
      "cell_type": "code",
      "source": [
        "# Recommend items for a user\n",
        "user_id = 0\n",
        "similar_users = np.argsort(user_similarity[user_id])[::-1]\n",
        "top_similar_user = similar_users[1]  # Exclude the user itself\n",
        "recommendations = np.where(user_item_matrix[top_similar_user] > 0)[0]\n",
        "\n",
        "print(f\"Recommended items for user {user_id}: {recommendations}\")"
      ],
      "metadata": {
        "colab": {
          "base_uri": "https://localhost:8080/"
        },
        "id": "g5UqATmvAIfn",
        "outputId": "5fa311d9-60fa-483c-a1f3-70b6257a184a"
      },
      "execution_count": 29,
      "outputs": [
        {
          "output_type": "stream",
          "name": "stdout",
          "text": [
            "Recommended items for user 0: [0 2 3]\n"
          ]
        }
      ]
    }
  ]
}